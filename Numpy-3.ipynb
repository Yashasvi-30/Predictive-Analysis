{
  "nbformat": 4,
  "nbformat_minor": 0,
  "metadata": {
    "colab": {
      "provenance": [],
      "authorship_tag": "ABX9TyPz1YBU6s+loe/W14L6yOjo",
      "include_colab_link": true
    },
    "kernelspec": {
      "name": "python3",
      "display_name": "Python 3"
    },
    "language_info": {
      "name": "python"
    }
  },
  "cells": [
    {
      "cell_type": "markdown",
      "metadata": {
        "id": "view-in-github",
        "colab_type": "text"
      },
      "source": [
        "<a href=\"https://colab.research.google.com/github/Yashasvi-30/Predictive-Analysis/blob/main/Numpy-3.ipynb\" target=\"_parent\"><img src=\"https://colab.research.google.com/assets/colab-badge.svg\" alt=\"Open In Colab\"/></a>"
      ]
    },
    {
      "cell_type": "code",
      "execution_count": 1,
      "metadata": {
        "colab": {
          "base_uri": "https://localhost:8080/"
        },
        "id": "GgL3aJ5Ij8O_",
        "outputId": "e880f684-26fc-4bde-cf09-7a4b54241dfe"
      },
      "outputs": [
        {
          "output_type": "stream",
          "name": "stdout",
          "text": [
            "Array Creation:\n",
            "1D Array: [1 2 3 4 5]\n",
            "2D Array:\n",
            " [[1 2 3]\n",
            " [4 5 6]]\n",
            "3D Array:\n",
            " [[[1 2]\n",
            "  [3 4]]\n",
            "\n",
            " [[5 6]\n",
            "  [7 8]]]\n",
            "Array with np.arange: [0 2 4 6 8]\n",
            "Array with np.linspace: [0.   0.25 0.5  0.75 1.  ]\n",
            "\n",
            "Array Indexing and Slicing:\n",
            "First element of array_1d: 1\n",
            "Slice of array_2d (first row): [1 2 3]\n",
            "Reshaped array_arange (2x2):\n",
            " [[0 2]\n",
            " [4 6]]\n",
            "\n",
            "Array Concatenation:\n",
            "Concatenated Array: [1 2 3 4 5 6 7 8]\n",
            "\n",
            "Array Attributes:\n",
            "Shape of array_2d: (2, 3)\n",
            "Size of array_2d: 6\n",
            "Data type of array_2d: int64\n",
            "Number of dimensions of array_3d: 3\n",
            "\n",
            "Reshape, Resize, and Flatten:\n",
            "Reshaped Array:\n",
            " [[1 2 3 4 5]]\n",
            "Resized Array:\n",
            " [[1 2 3]\n",
            " [4 5 1]\n",
            " [2 3 4]]\n",
            "Flattened Array: [1 2 3 4 5 6]\n"
          ]
        }
      ],
      "source": [
        "import numpy as np\n",
        "\n",
        "# 1D, 2D, and 3D array creation\n",
        "print(\"Array Creation:\")\n",
        "array_1d = np.array([1, 2, 3, 4, 5])\n",
        "array_2d = np.array([[1, 2, 3], [4, 5, 6]])\n",
        "array_3d = np.array([[[1, 2], [3, 4]], [[5, 6], [7, 8]]])\n",
        "\n",
        "print(\"1D Array:\", array_1d)\n",
        "print(\"2D Array:\\n\", array_2d)\n",
        "print(\"3D Array:\\n\", array_3d)\n",
        "\n",
        "# Creating arrays using np.arange, np.linspace\n",
        "array_arange = np.arange(0, 10, 2)\n",
        "array_linspace = np.linspace(0, 1, 5)\n",
        "\n",
        "print(\"Array with np.arange:\", array_arange)\n",
        "print(\"Array with np.linspace:\", array_linspace)\n",
        "\n",
        "# Basic operations: Indexing, Slicing, Reshaping\n",
        "print(\"\\nArray Indexing and Slicing:\")\n",
        "print(\"First element of array_1d:\", array_1d[0])\n",
        "print(\"Slice of array_2d (first row):\", array_2d[0, :])\n",
        "print(\"Reshaped array_arange (2x2):\\n\", array_arange[:4].reshape(2, 2))\n",
        "\n",
        "# Concatenation\n",
        "print(\"\\nArray Concatenation:\")\n",
        "concat_array = np.concatenate([array_1d, np.array([6, 7, 8])])\n",
        "print(\"Concatenated Array:\", concat_array)\n",
        "\n",
        "# Investigate attributes\n",
        "print(\"\\nArray Attributes:\")\n",
        "print(\"Shape of array_2d:\", array_2d.shape)\n",
        "print(\"Size of array_2d:\", array_2d.size)\n",
        "print(\"Data type of array_2d:\", array_2d.dtype)\n",
        "print(\"Number of dimensions of array_3d:\", array_3d.ndim)\n",
        "\n",
        "# Methods: reshape, resize, flatten\n",
        "print(\"\\nReshape, Resize, and Flatten:\")\n",
        "reshaped_array = array_1d.reshape(1, 5)\n",
        "resized_array = np.resize(array_1d, (3, 3))  # Note: This modifies the structure\n",
        "flattened_array = array_2d.flatten()\n",
        "\n",
        "print(\"Reshaped Array:\\n\", reshaped_array)\n",
        "print(\"Resized Array:\\n\", resized_array)\n",
        "print(\"Flattened Array:\", flattened_array)\n",
        "\n"
      ]
    },
    {
      "cell_type": "code",
      "source": [
        "import numpy as np\n",
        "\n",
        "# Load dataset using NumPy\n",
        "# Replace 'your_dataset.csv' with the path to a real CSV file\n",
        "try:\n",
        "    data = np.genfromtxt('mutual_funds_DS.csv', delimiter=',', skip_header=1)\n",
        "    print(\"\\nLoaded Data:\\n\", data)\n",
        "except FileNotFoundError:\n",
        "    print(\"\\nDataset not found! Replace 'your_dataset.csv' with an actual file.\")\n",
        "\n",
        "# Cleaning and Preprocessing\n",
        "# Simulating a dataset for demonstration\n",
        "data = np.array([[1, 2, np.nan], [4, 5, 6], [7, np.nan, 9]])\n",
        "\n",
        "print(\"\\nOriginal Data:\\n\", data)\n",
        "\n",
        "# Handle missing values\n",
        "data[np.isnan(data)] = np.mean(data[~np.isnan(data)])\n",
        "print(\"\\nData after Handling Missing Values:\\n\", data)\n",
        "\n",
        "# Normalization (min-max scaling)\n",
        "data_minmax = (data - data.min()) / (data.max() - data.min())\n",
        "print(\"\\nData after Normalization (Min-Max Scaling):\\n\", data_minmax)\n",
        "\n",
        "# Standardization (Z-score normalization)\n",
        "data_standardized = (data - data.mean(axis=0)) / data.std(axis=0)\n",
        "print(\"\\nData after Standardization (Z-Score Normalization):\\n\", data_standardized)\n",
        "\n",
        "# Statistical Measures\n",
        "print(\"\\nStatistical Measures:\")\n",
        "print(\"Mean:\", np.mean(data))\n",
        "print(\"Median:\", np.median(data))\n",
        "print(\"Standard Deviation:\", np.std(data))\n",
        "print(\"Variance:\", np.var(data))\n",
        "print(\"Sum:\", np.sum(data))\n",
        "print(\"Max:\", np.max(data))\n",
        "print(\"Min:\", np.min(data))\n"
      ],
      "metadata": {
        "colab": {
          "base_uri": "https://localhost:8080/"
        },
        "id": "r-PkU1U-kJdf",
        "outputId": "067bd604-1eb9-429c-aa30-1413e6a84ac7"
      },
      "execution_count": 2,
      "outputs": [
        {
          "output_type": "stream",
          "name": "stdout",
          "text": [
            "\n",
            "Loaded Data:\n",
            " [[   nan  100.   100.  ...    4.     6.5    6.9]\n",
            " [   nan 1000.  1000.  ...    5.6    4.8    5.5]\n",
            " [   nan 1000.  1000.  ...    2.    18.9    9.7]\n",
            " ...\n",
            " [   nan  500.   500.  ...    5.3    3.8    nan]\n",
            " [   nan  500.   500.  ...    1.7   32.4   13.3]\n",
            " [   nan  500.   500.  ...    5.3    4.5    nan]]\n",
            "\n",
            "Original Data:\n",
            " [[ 1.  2. nan]\n",
            " [ 4.  5.  6.]\n",
            " [ 7. nan  9.]]\n",
            "\n",
            "Data after Handling Missing Values:\n",
            " [[1.         2.         4.85714286]\n",
            " [4.         5.         6.        ]\n",
            " [7.         4.85714286 9.        ]]\n",
            "\n",
            "Data after Normalization (Min-Max Scaling):\n",
            " [[0.         0.125      0.48214286]\n",
            " [0.375      0.5        0.625     ]\n",
            " [0.75       0.48214286 1.        ]]\n",
            "\n",
            "Data after Standardization (Z-Score Normalization):\n",
            " [[-1.22474487 -1.41295331 -1.00850764]\n",
            " [ 0.          0.75817007 -0.35434052]\n",
            " [ 1.22474487  0.65478324  1.36284817]]\n",
            "\n",
            "Statistical Measures:\n",
            "Mean: 4.857142857142858\n",
            "Median: 4.857142857142857\n",
            "Standard Deviation: 2.281742581087798\n",
            "Variance: 5.2063492063492065\n",
            "Sum: 43.714285714285715\n",
            "Max: 9.0\n",
            "Min: 1.0\n"
          ]
        }
      ]
    }
  ]
}