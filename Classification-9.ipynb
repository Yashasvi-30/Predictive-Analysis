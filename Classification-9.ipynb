{
  "cells": [
    {
      "cell_type": "markdown",
      "metadata": {
        "id": "view-in-github",
        "colab_type": "text"
      },
      "source": [
        "<a href=\"https://colab.research.google.com/github/Yashasvi-30/Predictive-Analysis/blob/main/Classification-9.ipynb\" target=\"_parent\"><img src=\"https://colab.research.google.com/assets/colab-badge.svg\" alt=\"Open In Colab\"/></a>"
      ]
    },
    {
      "cell_type": "code",
      "execution_count": null,
      "id": "c9e51a61-b768-4227-a391-079a855478ca",
      "metadata": {
        "id": "c9e51a61-b768-4227-a391-079a855478ca"
      },
      "outputs": [],
      "source": [
        "import pandas as pd\n",
        "import numpy as np\n",
        "import matplotlib.pyplot as plt\n",
        "import seaborn as sns\n",
        "from sklearn.svm import SVC\n",
        "from sklearn.metrics import classification_report, confusion_matrix, accuracy_score, precision_score, recall_score, f1_score\n",
        "from sklearn.model_selection import train_test_split\n",
        "from sklearn.metrics import precision_recall_curve, auc, average_precision_score, roc_auc_score"
      ]
    },
    {
      "cell_type": "code",
      "execution_count": null,
      "id": "c517bd7e-1546-4737-9b19-91349cd9c71f",
      "metadata": {
        "id": "c517bd7e-1546-4737-9b19-91349cd9c71f"
      },
      "outputs": [],
      "source": [
        "df=pd.read_csv('creditcard.csv')"
      ]
    },
    {
      "cell_type": "code",
      "execution_count": null,
      "id": "03ee2b55-d796-494e-9304-cf558de67b22",
      "metadata": {
        "id": "03ee2b55-d796-494e-9304-cf558de67b22",
        "outputId": "b46cc12e-ab74-47af-de88-94e8bc45ed38"
      },
      "outputs": [
        {
          "data": {
            "text/plain": [
              "Index(['Time', 'V1', 'V2', 'V3', 'V4', 'V5', 'V6', 'V7', 'V8', 'V9', 'V10',\n",
              "       'V11', 'V12', 'V13', 'V14', 'V15', 'V16', 'V17', 'V18', 'V19', 'V20',\n",
              "       'V21', 'V22', 'V23', 'V24', 'V25', 'V26', 'V27', 'V28', 'Amount',\n",
              "       'Class'],\n",
              "      dtype='object')"
            ]
          },
          "execution_count": 3,
          "metadata": {},
          "output_type": "execute_result"
        }
      ],
      "source": [
        "df.columns"
      ]
    },
    {
      "cell_type": "code",
      "execution_count": null,
      "id": "d4c3d955-bf72-4f7f-aa36-d1bd5ce3bd66",
      "metadata": {
        "id": "d4c3d955-bf72-4f7f-aa36-d1bd5ce3bd66",
        "outputId": "39a2163f-73d8-4631-cce8-10a5a7c24482"
      },
      "outputs": [
        {
          "data": {
            "text/html": [
              "<div>\n",
              "<style scoped>\n",
              "    .dataframe tbody tr th:only-of-type {\n",
              "        vertical-align: middle;\n",
              "    }\n",
              "\n",
              "    .dataframe tbody tr th {\n",
              "        vertical-align: top;\n",
              "    }\n",
              "\n",
              "    .dataframe thead th {\n",
              "        text-align: right;\n",
              "    }\n",
              "</style>\n",
              "<table border=\"1\" class=\"dataframe\">\n",
              "  <thead>\n",
              "    <tr style=\"text-align: right;\">\n",
              "      <th></th>\n",
              "      <th>Time</th>\n",
              "      <th>V1</th>\n",
              "      <th>V2</th>\n",
              "      <th>V3</th>\n",
              "      <th>V4</th>\n",
              "      <th>V5</th>\n",
              "      <th>V6</th>\n",
              "      <th>V7</th>\n",
              "      <th>V8</th>\n",
              "      <th>V9</th>\n",
              "      <th>...</th>\n",
              "      <th>V21</th>\n",
              "      <th>V22</th>\n",
              "      <th>V23</th>\n",
              "      <th>V24</th>\n",
              "      <th>V25</th>\n",
              "      <th>V26</th>\n",
              "      <th>V27</th>\n",
              "      <th>V28</th>\n",
              "      <th>Amount</th>\n",
              "      <th>Class</th>\n",
              "    </tr>\n",
              "  </thead>\n",
              "  <tbody>\n",
              "    <tr>\n",
              "      <th>0</th>\n",
              "      <td>0.0</td>\n",
              "      <td>-1.359807</td>\n",
              "      <td>-0.072781</td>\n",
              "      <td>2.536347</td>\n",
              "      <td>1.378155</td>\n",
              "      <td>-0.338321</td>\n",
              "      <td>0.462388</td>\n",
              "      <td>0.239599</td>\n",
              "      <td>0.098698</td>\n",
              "      <td>0.363787</td>\n",
              "      <td>...</td>\n",
              "      <td>-0.018307</td>\n",
              "      <td>0.277838</td>\n",
              "      <td>-0.110474</td>\n",
              "      <td>0.066928</td>\n",
              "      <td>0.128539</td>\n",
              "      <td>-0.189115</td>\n",
              "      <td>0.133558</td>\n",
              "      <td>-0.021053</td>\n",
              "      <td>149.62</td>\n",
              "      <td>0</td>\n",
              "    </tr>\n",
              "    <tr>\n",
              "      <th>1</th>\n",
              "      <td>0.0</td>\n",
              "      <td>1.191857</td>\n",
              "      <td>0.266151</td>\n",
              "      <td>0.166480</td>\n",
              "      <td>0.448154</td>\n",
              "      <td>0.060018</td>\n",
              "      <td>-0.082361</td>\n",
              "      <td>-0.078803</td>\n",
              "      <td>0.085102</td>\n",
              "      <td>-0.255425</td>\n",
              "      <td>...</td>\n",
              "      <td>-0.225775</td>\n",
              "      <td>-0.638672</td>\n",
              "      <td>0.101288</td>\n",
              "      <td>-0.339846</td>\n",
              "      <td>0.167170</td>\n",
              "      <td>0.125895</td>\n",
              "      <td>-0.008983</td>\n",
              "      <td>0.014724</td>\n",
              "      <td>2.69</td>\n",
              "      <td>0</td>\n",
              "    </tr>\n",
              "    <tr>\n",
              "      <th>2</th>\n",
              "      <td>1.0</td>\n",
              "      <td>-1.358354</td>\n",
              "      <td>-1.340163</td>\n",
              "      <td>1.773209</td>\n",
              "      <td>0.379780</td>\n",
              "      <td>-0.503198</td>\n",
              "      <td>1.800499</td>\n",
              "      <td>0.791461</td>\n",
              "      <td>0.247676</td>\n",
              "      <td>-1.514654</td>\n",
              "      <td>...</td>\n",
              "      <td>0.247998</td>\n",
              "      <td>0.771679</td>\n",
              "      <td>0.909412</td>\n",
              "      <td>-0.689281</td>\n",
              "      <td>-0.327642</td>\n",
              "      <td>-0.139097</td>\n",
              "      <td>-0.055353</td>\n",
              "      <td>-0.059752</td>\n",
              "      <td>378.66</td>\n",
              "      <td>0</td>\n",
              "    </tr>\n",
              "    <tr>\n",
              "      <th>3</th>\n",
              "      <td>1.0</td>\n",
              "      <td>-0.966272</td>\n",
              "      <td>-0.185226</td>\n",
              "      <td>1.792993</td>\n",
              "      <td>-0.863291</td>\n",
              "      <td>-0.010309</td>\n",
              "      <td>1.247203</td>\n",
              "      <td>0.237609</td>\n",
              "      <td>0.377436</td>\n",
              "      <td>-1.387024</td>\n",
              "      <td>...</td>\n",
              "      <td>-0.108300</td>\n",
              "      <td>0.005274</td>\n",
              "      <td>-0.190321</td>\n",
              "      <td>-1.175575</td>\n",
              "      <td>0.647376</td>\n",
              "      <td>-0.221929</td>\n",
              "      <td>0.062723</td>\n",
              "      <td>0.061458</td>\n",
              "      <td>123.50</td>\n",
              "      <td>0</td>\n",
              "    </tr>\n",
              "    <tr>\n",
              "      <th>4</th>\n",
              "      <td>2.0</td>\n",
              "      <td>-1.158233</td>\n",
              "      <td>0.877737</td>\n",
              "      <td>1.548718</td>\n",
              "      <td>0.403034</td>\n",
              "      <td>-0.407193</td>\n",
              "      <td>0.095921</td>\n",
              "      <td>0.592941</td>\n",
              "      <td>-0.270533</td>\n",
              "      <td>0.817739</td>\n",
              "      <td>...</td>\n",
              "      <td>-0.009431</td>\n",
              "      <td>0.798278</td>\n",
              "      <td>-0.137458</td>\n",
              "      <td>0.141267</td>\n",
              "      <td>-0.206010</td>\n",
              "      <td>0.502292</td>\n",
              "      <td>0.219422</td>\n",
              "      <td>0.215153</td>\n",
              "      <td>69.99</td>\n",
              "      <td>0</td>\n",
              "    </tr>\n",
              "  </tbody>\n",
              "</table>\n",
              "<p>5 rows × 31 columns</p>\n",
              "</div>"
            ],
            "text/plain": [
              "   Time        V1        V2        V3        V4        V5        V6        V7  \\\n",
              "0   0.0 -1.359807 -0.072781  2.536347  1.378155 -0.338321  0.462388  0.239599   \n",
              "1   0.0  1.191857  0.266151  0.166480  0.448154  0.060018 -0.082361 -0.078803   \n",
              "2   1.0 -1.358354 -1.340163  1.773209  0.379780 -0.503198  1.800499  0.791461   \n",
              "3   1.0 -0.966272 -0.185226  1.792993 -0.863291 -0.010309  1.247203  0.237609   \n",
              "4   2.0 -1.158233  0.877737  1.548718  0.403034 -0.407193  0.095921  0.592941   \n",
              "\n",
              "         V8        V9  ...       V21       V22       V23       V24       V25  \\\n",
              "0  0.098698  0.363787  ... -0.018307  0.277838 -0.110474  0.066928  0.128539   \n",
              "1  0.085102 -0.255425  ... -0.225775 -0.638672  0.101288 -0.339846  0.167170   \n",
              "2  0.247676 -1.514654  ...  0.247998  0.771679  0.909412 -0.689281 -0.327642   \n",
              "3  0.377436 -1.387024  ... -0.108300  0.005274 -0.190321 -1.175575  0.647376   \n",
              "4 -0.270533  0.817739  ... -0.009431  0.798278 -0.137458  0.141267 -0.206010   \n",
              "\n",
              "        V26       V27       V28  Amount  Class  \n",
              "0 -0.189115  0.133558 -0.021053  149.62      0  \n",
              "1  0.125895 -0.008983  0.014724    2.69      0  \n",
              "2 -0.139097 -0.055353 -0.059752  378.66      0  \n",
              "3 -0.221929  0.062723  0.061458  123.50      0  \n",
              "4  0.502292  0.219422  0.215153   69.99      0  \n",
              "\n",
              "[5 rows x 31 columns]"
            ]
          },
          "execution_count": 4,
          "metadata": {},
          "output_type": "execute_result"
        }
      ],
      "source": [
        "df.head()"
      ]
    },
    {
      "cell_type": "code",
      "execution_count": null,
      "id": "951c04fb-5689-4996-9d00-47bc4db8b75f",
      "metadata": {
        "id": "951c04fb-5689-4996-9d00-47bc4db8b75f",
        "outputId": "3847a40b-1d26-4fa7-f9b0-8acfa8a538fc"
      },
      "outputs": [
        {
          "data": {
            "text/plain": [
              "(284807, 31)"
            ]
          },
          "execution_count": 7,
          "metadata": {},
          "output_type": "execute_result"
        }
      ],
      "source": [
        "df.shape"
      ]
    },
    {
      "cell_type": "code",
      "execution_count": null,
      "id": "37fa5c31-f3f8-4db8-829a-60c9945fd6d9",
      "metadata": {
        "id": "37fa5c31-f3f8-4db8-829a-60c9945fd6d9",
        "outputId": "edbace7d-1443-41f4-f92a-1a239fa4c114"
      },
      "outputs": [
        {
          "data": {
            "text/plain": [
              "Class\n",
              "0    284315\n",
              "1       492\n",
              "Name: count, dtype: int64"
            ]
          },
          "execution_count": 8,
          "metadata": {},
          "output_type": "execute_result"
        }
      ],
      "source": [
        "df['Class'].value_counts()"
      ]
    },
    {
      "cell_type": "code",
      "execution_count": null,
      "id": "db3c186e-05da-42bc-9b5e-3f18e6e6d687",
      "metadata": {
        "id": "db3c186e-05da-42bc-9b5e-3f18e6e6d687",
        "outputId": "0b5891a5-7e4a-491b-fcdb-db938c4d108d"
      },
      "outputs": [
        {
          "name": "stdout",
          "output_type": "stream",
          "text": [
            "<class 'pandas.core.frame.DataFrame'>\n",
            "RangeIndex: 284807 entries, 0 to 284806\n",
            "Data columns (total 31 columns):\n",
            " #   Column  Non-Null Count   Dtype  \n",
            "---  ------  --------------   -----  \n",
            " 0   Time    284807 non-null  float64\n",
            " 1   V1      284807 non-null  float64\n",
            " 2   V2      284807 non-null  float64\n",
            " 3   V3      284807 non-null  float64\n",
            " 4   V4      284807 non-null  float64\n",
            " 5   V5      284807 non-null  float64\n",
            " 6   V6      284807 non-null  float64\n",
            " 7   V7      284807 non-null  float64\n",
            " 8   V8      284807 non-null  float64\n",
            " 9   V9      284807 non-null  float64\n",
            " 10  V10     284807 non-null  float64\n",
            " 11  V11     284807 non-null  float64\n",
            " 12  V12     284807 non-null  float64\n",
            " 13  V13     284807 non-null  float64\n",
            " 14  V14     284807 non-null  float64\n",
            " 15  V15     284807 non-null  float64\n",
            " 16  V16     284807 non-null  float64\n",
            " 17  V17     284807 non-null  float64\n",
            " 18  V18     284807 non-null  float64\n",
            " 19  V19     284807 non-null  float64\n",
            " 20  V20     284807 non-null  float64\n",
            " 21  V21     284807 non-null  float64\n",
            " 22  V22     284807 non-null  float64\n",
            " 23  V23     284807 non-null  float64\n",
            " 24  V24     284807 non-null  float64\n",
            " 25  V25     284807 non-null  float64\n",
            " 26  V26     284807 non-null  float64\n",
            " 27  V27     284807 non-null  float64\n",
            " 28  V28     284807 non-null  float64\n",
            " 29  Amount  284807 non-null  float64\n",
            " 30  Class   284807 non-null  int64  \n",
            "dtypes: float64(30), int64(1)\n",
            "memory usage: 67.4 MB\n"
          ]
        }
      ],
      "source": [
        "df.info()"
      ]
    },
    {
      "cell_type": "code",
      "execution_count": null,
      "id": "57093714-9e76-405c-a0b1-2d0aa83f7962",
      "metadata": {
        "id": "57093714-9e76-405c-a0b1-2d0aa83f7962",
        "outputId": "291d7748-5edc-488f-a0aa-86845607db4e"
      },
      "outputs": [
        {
          "data": {
            "text/plain": [
              "Time\n",
              "163152.0    36\n",
              "64947.0     26\n",
              "68780.0     25\n",
              "3767.0      21\n",
              "3770.0      20\n",
              "            ..\n",
              "172748.0     1\n",
              "172749.0     1\n",
              "172754.0     1\n",
              "172756.0     1\n",
              "172757.0     1\n",
              "Name: count, Length: 124592, dtype: int64"
            ]
          },
          "execution_count": 11,
          "metadata": {},
          "output_type": "execute_result"
        }
      ],
      "source": [
        "df['Time'].value_counts()"
      ]
    },
    {
      "cell_type": "code",
      "execution_count": null,
      "id": "2660f1fc-2101-476f-b7dd-c699519bfad4",
      "metadata": {
        "id": "2660f1fc-2101-476f-b7dd-c699519bfad4",
        "outputId": "b7949ed8-e237-4c5d-9aa2-65b6189d538b"
      },
      "outputs": [
        {
          "data": {
            "text/plain": [
              "(492, 31)"
            ]
          },
          "execution_count": 12,
          "metadata": {},
          "output_type": "execute_result"
        }
      ],
      "source": [
        "df[(df['Class']==1)].shape"
      ]
    },
    {
      "cell_type": "code",
      "execution_count": null,
      "id": "a0a5827c-279a-48fa-8fe1-14d680cbd95e",
      "metadata": {
        "id": "a0a5827c-279a-48fa-8fe1-14d680cbd95e",
        "outputId": "7e4d0af0-acab-421f-b4c7-9492d2fba99c"
      },
      "outputs": [
        {
          "data": {
            "text/html": [
              "<div>\n",
              "<style scoped>\n",
              "    .dataframe tbody tr th:only-of-type {\n",
              "        vertical-align: middle;\n",
              "    }\n",
              "\n",
              "    .dataframe tbody tr th {\n",
              "        vertical-align: top;\n",
              "    }\n",
              "\n",
              "    .dataframe thead th {\n",
              "        text-align: right;\n",
              "    }\n",
              "</style>\n",
              "<table border=\"1\" class=\"dataframe\">\n",
              "  <thead>\n",
              "    <tr style=\"text-align: right;\">\n",
              "      <th></th>\n",
              "      <th>Time</th>\n",
              "      <th>V1</th>\n",
              "      <th>V2</th>\n",
              "      <th>V3</th>\n",
              "      <th>V4</th>\n",
              "      <th>V5</th>\n",
              "      <th>V6</th>\n",
              "      <th>V7</th>\n",
              "      <th>V8</th>\n",
              "      <th>V9</th>\n",
              "      <th>...</th>\n",
              "      <th>V21</th>\n",
              "      <th>V22</th>\n",
              "      <th>V23</th>\n",
              "      <th>V24</th>\n",
              "      <th>V25</th>\n",
              "      <th>V26</th>\n",
              "      <th>V27</th>\n",
              "      <th>V28</th>\n",
              "      <th>Amount</th>\n",
              "      <th>Class</th>\n",
              "    </tr>\n",
              "  </thead>\n",
              "  <tbody>\n",
              "    <tr>\n",
              "      <th>182992</th>\n",
              "      <td>125612.0</td>\n",
              "      <td>1.889618</td>\n",
              "      <td>1.073099</td>\n",
              "      <td>-1.678018</td>\n",
              "      <td>4.173268</td>\n",
              "      <td>1.015516</td>\n",
              "      <td>-0.009389</td>\n",
              "      <td>-0.079706</td>\n",
              "      <td>0.064071</td>\n",
              "      <td>-0.714517</td>\n",
              "      <td>...</td>\n",
              "      <td>0.203728</td>\n",
              "      <td>0.733796</td>\n",
              "      <td>-0.036560</td>\n",
              "      <td>0.334306</td>\n",
              "      <td>0.147171</td>\n",
              "      <td>0.279556</td>\n",
              "      <td>0.031669</td>\n",
              "      <td>0.035883</td>\n",
              "      <td>3.22</td>\n",
              "      <td>1</td>\n",
              "    </tr>\n",
              "    <tr>\n",
              "      <th>161883</th>\n",
              "      <td>114607.0</td>\n",
              "      <td>0.249845</td>\n",
              "      <td>0.052775</td>\n",
              "      <td>-0.156106</td>\n",
              "      <td>-2.006456</td>\n",
              "      <td>0.277344</td>\n",
              "      <td>-0.890737</td>\n",
              "      <td>0.502659</td>\n",
              "      <td>-0.142227</td>\n",
              "      <td>-1.237658</td>\n",
              "      <td>...</td>\n",
              "      <td>0.213096</td>\n",
              "      <td>0.544543</td>\n",
              "      <td>0.019022</td>\n",
              "      <td>-0.354655</td>\n",
              "      <td>-1.080472</td>\n",
              "      <td>-0.487127</td>\n",
              "      <td>0.219910</td>\n",
              "      <td>0.234432</td>\n",
              "      <td>4.13</td>\n",
              "      <td>0</td>\n",
              "    </tr>\n",
              "    <tr>\n",
              "      <th>237107</th>\n",
              "      <td>149096.0</td>\n",
              "      <td>1.184891</td>\n",
              "      <td>3.152084</td>\n",
              "      <td>-6.134780</td>\n",
              "      <td>5.531252</td>\n",
              "      <td>1.733867</td>\n",
              "      <td>-1.816861</td>\n",
              "      <td>-0.916696</td>\n",
              "      <td>0.265568</td>\n",
              "      <td>-3.158014</td>\n",
              "      <td>...</td>\n",
              "      <td>0.124236</td>\n",
              "      <td>-0.823865</td>\n",
              "      <td>-0.079887</td>\n",
              "      <td>0.028828</td>\n",
              "      <td>0.389711</td>\n",
              "      <td>0.060171</td>\n",
              "      <td>0.485187</td>\n",
              "      <td>0.326552</td>\n",
              "      <td>0.00</td>\n",
              "      <td>1</td>\n",
              "    </tr>\n",
              "    <tr>\n",
              "      <th>275599</th>\n",
              "      <td>166622.0</td>\n",
              "      <td>0.830189</td>\n",
              "      <td>-3.132904</td>\n",
              "      <td>-1.345380</td>\n",
              "      <td>0.014552</td>\n",
              "      <td>-1.632451</td>\n",
              "      <td>0.084784</td>\n",
              "      <td>-0.194305</td>\n",
              "      <td>-0.150152</td>\n",
              "      <td>0.051903</td>\n",
              "      <td>...</td>\n",
              "      <td>0.196771</td>\n",
              "      <td>-0.445983</td>\n",
              "      <td>-0.323263</td>\n",
              "      <td>0.498537</td>\n",
              "      <td>-0.675721</td>\n",
              "      <td>0.565478</td>\n",
              "      <td>-0.148745</td>\n",
              "      <td>0.078147</td>\n",
              "      <td>692.50</td>\n",
              "      <td>0</td>\n",
              "    </tr>\n",
              "    <tr>\n",
              "      <th>187872</th>\n",
              "      <td>127726.0</td>\n",
              "      <td>0.301166</td>\n",
              "      <td>-3.993710</td>\n",
              "      <td>-5.014515</td>\n",
              "      <td>-1.145716</td>\n",
              "      <td>1.644534</td>\n",
              "      <td>2.947570</td>\n",
              "      <td>1.217315</td>\n",
              "      <td>0.126200</td>\n",
              "      <td>-1.337060</td>\n",
              "      <td>...</td>\n",
              "      <td>1.097822</td>\n",
              "      <td>0.808627</td>\n",
              "      <td>-1.094694</td>\n",
              "      <td>0.858874</td>\n",
              "      <td>0.426339</td>\n",
              "      <td>0.211359</td>\n",
              "      <td>-0.269852</td>\n",
              "      <td>0.079196</td>\n",
              "      <td>1038.11</td>\n",
              "      <td>0</td>\n",
              "    </tr>\n",
              "  </tbody>\n",
              "</table>\n",
              "<p>5 rows × 31 columns</p>\n",
              "</div>"
            ],
            "text/plain": [
              "            Time        V1        V2        V3        V4        V5        V6  \\\n",
              "182992  125612.0  1.889618  1.073099 -1.678018  4.173268  1.015516 -0.009389   \n",
              "161883  114607.0  0.249845  0.052775 -0.156106 -2.006456  0.277344 -0.890737   \n",
              "237107  149096.0  1.184891  3.152084 -6.134780  5.531252  1.733867 -1.816861   \n",
              "275599  166622.0  0.830189 -3.132904 -1.345380  0.014552 -1.632451  0.084784   \n",
              "187872  127726.0  0.301166 -3.993710 -5.014515 -1.145716  1.644534  2.947570   \n",
              "\n",
              "              V7        V8        V9  ...       V21       V22       V23  \\\n",
              "182992 -0.079706  0.064071 -0.714517  ...  0.203728  0.733796 -0.036560   \n",
              "161883  0.502659 -0.142227 -1.237658  ...  0.213096  0.544543  0.019022   \n",
              "237107 -0.916696  0.265568 -3.158014  ...  0.124236 -0.823865 -0.079887   \n",
              "275599 -0.194305 -0.150152  0.051903  ...  0.196771 -0.445983 -0.323263   \n",
              "187872  1.217315  0.126200 -1.337060  ...  1.097822  0.808627 -1.094694   \n",
              "\n",
              "             V24       V25       V26       V27       V28   Amount  Class  \n",
              "182992  0.334306  0.147171  0.279556  0.031669  0.035883     3.22      1  \n",
              "161883 -0.354655 -1.080472 -0.487127  0.219910  0.234432     4.13      0  \n",
              "237107  0.028828  0.389711  0.060171  0.485187  0.326552     0.00      1  \n",
              "275599  0.498537 -0.675721  0.565478 -0.148745  0.078147   692.50      0  \n",
              "187872  0.858874  0.426339  0.211359 -0.269852  0.079196  1038.11      0  \n",
              "\n",
              "[5 rows x 31 columns]"
            ]
          },
          "execution_count": 13,
          "metadata": {},
          "output_type": "execute_result"
        }
      ],
      "source": [
        "df = df.sample(frac=1)\n",
        "normal_df = pd.concat([df[df['Class']==1], df[df['Class']==0].iloc[:492,:]], axis=0).sample(frac=1)\n",
        "normal_df.head()"
      ]
    },
    {
      "cell_type": "code",
      "execution_count": null,
      "id": "51e7159f-31ae-4a3d-8e33-32d70b6cc1cc",
      "metadata": {
        "id": "51e7159f-31ae-4a3d-8e33-32d70b6cc1cc",
        "outputId": "36c0a1b4-20dd-41f8-ef60-4fe09f9c4873"
      },
      "outputs": [
        {
          "data": {
            "text/plain": [
              "(984, 31)"
            ]
          },
          "execution_count": 14,
          "metadata": {},
          "output_type": "execute_result"
        }
      ],
      "source": [
        "normal_df.shape"
      ]
    },
    {
      "cell_type": "code",
      "execution_count": null,
      "id": "210459bf-83f4-477e-9c03-886811dc56d7",
      "metadata": {
        "id": "210459bf-83f4-477e-9c03-886811dc56d7"
      },
      "outputs": [],
      "source": [
        "from sklearn.model_selection import train_test_split"
      ]
    },
    {
      "cell_type": "code",
      "execution_count": null,
      "id": "37df6d23-b35f-4124-b447-fe79bbdc00e9",
      "metadata": {
        "id": "37df6d23-b35f-4124-b447-fe79bbdc00e9",
        "outputId": "e93812c2-7430-41a0-90d4-b3ebf2539504"
      },
      "outputs": [
        {
          "name": "stdout",
          "output_type": "stream",
          "text": [
            "\n",
            "Classification Report:\n",
            "              precision    recall  f1-score   support\n",
            "\n",
            "           0       0.60      0.57      0.58       148\n",
            "           1       0.59      0.62      0.61       148\n",
            "\n",
            "    accuracy                           0.59       296\n",
            "   macro avg       0.59      0.59      0.59       296\n",
            "weighted avg       0.59      0.59      0.59       296\n",
            "\n"
          ]
        }
      ],
      "source": [
        "y = normal_df['Class']\n",
        "X = normal_df.drop(['Class'], axis=1)\n",
        "\n",
        "\n",
        "X_train, X_test, y_train, y_test = train_test_split(X, y, test_size=0.3, random_state=31, stratify=y)\n",
        "\n",
        "svm_model = SVC(kernel='rbf', C=1.0, gamma='scale', random_state=31)\n",
        "\n",
        "svm_model.fit(X_train, y_train)\n",
        "\n",
        "y_pred = svm_model.predict(X_test)\n",
        "\n",
        "\n",
        "print(\"\\nClassification Report:\")\n",
        "print(classification_report(y_test, y_pred))\n",
        "\n",
        "accuracy = accuracy_score(y_test, y_pred)\n",
        "precision = precision_score(y_test, y_pred)\n",
        "recall = recall_score(y_test, y_pred)\n",
        "f1 = f1_score(y_test, y_pred)\n",
        "\n"
      ]
    },
    {
      "cell_type": "code",
      "execution_count": null,
      "id": "088dc8e0-9b0c-4c29-959d-7cfd76d3a2c4",
      "metadata": {
        "id": "088dc8e0-9b0c-4c29-959d-7cfd76d3a2c4",
        "outputId": "a0d594ae-ba49-4a4d-ebe6-acf50a08bffe"
      },
      "outputs": [
        {
          "data": {
            "image/png": "[encoded data removed]",
            "text/plain": [
              "<Figure size 600x400 with 2 Axes>"
            ]
          },
          "metadata": {},
          "output_type": "display_data"
        }
      ],
      "source": [
        "conf_matrix = confusion_matrix(y_test, y_pred)\n",
        "\n",
        "plt.figure(figsize=(6,4))\n",
        "sns.heatmap(conf_matrix, annot=True, fmt='d', cmap='Blues', xticklabels=['Not Fraud', 'Fraud'], yticklabels=['Not Fraud', 'Fraud'])\n",
        "plt.xlabel('Predicted')\n",
        "plt.ylabel('Actual')\n",
        "plt.title('Confusion Matrix')\n",
        "plt.show()"
      ]
    },
    {
      "cell_type": "code",
      "execution_count": null,
      "id": "832c748e-9117-41ac-baad-dc4be828e80b",
      "metadata": {
        "id": "832c748e-9117-41ac-baad-dc4be828e80b"
      },
      "outputs": [],
      "source": []
    }
  ],
  "metadata": {
    "kernelspec": {
      "display_name": "Python (tf_gpu)",
      "language": "python",
      "name": "tf_gpu"
    },
    "language_info": {
      "codemirror_mode": {
        "name": "ipython",
        "version": 3
      },
      "file_extension": ".py",
      "mimetype": "text/x-python",
      "name": "python",
      "nbconvert_exporter": "python",
      "pygments_lexer": "ipython3",
      "version": "3.10.14"
    },
    "colab": {
      "provenance": [],
      "include_colab_link": true
    }
  },
  "nbformat": 4,
  "nbformat_minor": 5
}