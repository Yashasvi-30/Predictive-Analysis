{
  "nbformat": 4,
  "nbformat_minor": 0,
  "metadata": {
    "colab": {
      "provenance": [],
      "authorship_tag": "ABX9TyMGsuAGo+DKNHpQEXVe3z5p",
      "include_colab_link": true
    },
    "kernelspec": {
      "name": "python3",
      "display_name": "Python 3"
    },
    "language_info": {
      "name": "python"
    }
  },
  "cells": [
    {
      "cell_type": "markdown",
      "metadata": {
        "id": "view-in-github",
        "colab_type": "text"
      },
      "source": [
        "<a href=\"https://colab.research.google.com/github/Yashasvi-30/Predictive-Analysis/blob/main/DecisionTree-8.ipynb\" target=\"_parent\"><img src=\"https://colab.research.google.com/assets/colab-badge.svg\" alt=\"Open In Colab\"/></a>"
      ]
    },
    {
      "cell_type": "code",
      "execution_count": null,
      "metadata": {
        "id": "lcoGpNZFdjQo"
      },
      "outputs": [],
      "source": [
        "# Import necessary libraries\n",
        "import pandas as pd\n",
        "import numpy as np\n",
        "from sklearn.model_selection import train_test_split\n",
        "from sklearn.tree import DecisionTreeClassifier, plot_tree\n",
        "from sklearn.metrics import classification_report, confusion_matrix\n",
        "import matplotlib.pyplot as plt\n",
        "import seaborn as sns\n",
        "\n",
        "# Load the dataset\n",
        "# Replace 'loan_default_data.csv' with your dataset path\n",
        "data = pd.read_csv('loan_default_data.csv')\n",
        "\n",
        "# Overview of the dataset\n",
        "print(\"Dataset Overview:\")\n",
        "print(data.head())\n",
        "print(\"\\nData Summary:\")\n",
        "print(data.info())\n",
        "\n",
        "# Handle missing values (if any)\n",
        "data.fillna(data.median(numeric_only=True), inplace=True)  # For numerical columns\n",
        "data.fillna(data.mode().iloc[0], inplace=True)            # For categorical columns\n",
        "\n",
        "# Feature engineering\n",
        "# Convert categorical variables to numerical (if applicable)\n",
        "data = pd.get_dummies(data, drop_first=True)\n",
        "\n",
        "# Split dataset into features (X) and target (y)\n",
        "# Replace 'default' with your target column\n",
        "X = data.drop('default', axis=1)\n",
        "y = data['default']\n",
        "\n",
        "# Split into train and test sets\n",
        "X_train, X_test, y_train, y_test = train_test_split(X, y, test_size=0.3, random_state=42)\n",
        "\n",
        "# Build a Decision Tree Model\n",
        "decision_tree = DecisionTreeClassifier(criterion='gini', max_depth=4, random_state=42)\n",
        "decision_tree.fit(X_train, y_train)\n",
        "\n",
        "# Predict on test data\n",
        "y_pred = decision_tree.predict(X_test)\n",
        "\n",
        "# Evaluate the model\n",
        "print(\"\\nConfusion Matrix:\")\n",
        "print(confusion_matrix(y_test, y_pred))\n",
        "print(\"\\nClassification Report:\")\n",
        "print(classification_report(y_test, y_pred))\n",
        "\n",
        "# Visualizing the Decision Tree\n",
        "plt.figure(figsize=(20, 10))\n",
        "plot_tree(decision_tree, feature_names=X.columns, class_names=['No Default', 'Default'], filled=True, rounded=True, fontsize=10)\n",
        "plt.title(\"Decision Tree Visualization\")\n",
        "plt.show()\n",
        "\n",
        "# Feature Importance\n",
        "feature_importance = pd.DataFrame({\n",
        "    'Feature': X.columns,\n",
        "    'Importance': decision_tree.feature_importances_\n",
        "}).sort_values(by='Importance', ascending=False)\n",
        "\n",
        "print(\"\\nFeature Importance:\")\n",
        "print(feature_importance)\n",
        "\n",
        "# Visualize Feature Importance\n",
        "plt.figure(figsize=(10, 6))\n",
        "sns.barplot(x='Importance', y='Feature', data=feature_importance)\n",
        "plt.title('Feature Importance')\n",
        "plt.xlabel('Importance')\n",
        "plt.ylabel('Feature')\n",
        "plt.show()\n"
      ]
    }
  ]
}