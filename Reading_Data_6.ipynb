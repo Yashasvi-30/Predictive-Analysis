{
  "cells": [
    {
      "cell_type": "markdown",
      "metadata": {
        "id": "view-in-github",
        "colab_type": "text"
      },
      "source": [
        "<a href=\"https://colab.research.google.com/github/Yashasvi-30/Predictive-Analysis/blob/main/Reading_Data_6.ipynb\" target=\"_parent\"><img src=\"https://colab.research.google.com/assets/colab-badge.svg\" alt=\"Open In Colab\"/></a>"
      ]
    },
    {
      "cell_type": "code",
      "execution_count": 3,
      "id": "6346846f-bf08-4f4e-80f2-27cac87dba78",
      "metadata": {
        "colab": {
          "base_uri": "https://localhost:8080/"
        },
        "id": "6346846f-bf08-4f4e-80f2-27cac87dba78",
        "outputId": "fc8cc078-e9ec-433d-9633-3449f780ceca"
      },
      "outputs": [
        {
          "output_type": "stream",
          "name": "stdout",
          "text": [
            "                                         scheme_name  min_sip  min_lumpsum  \\\n",
            "0  Aditya Birla SL Active Debt Multi-Mgr FoF-Dir ...      100          100   \n",
            "1                     Aditya Birla SL Arbitrage Fund     1000         1000   \n",
            "2     Aditya Birla SL Asset Allocator FoF-Dir Growth     1000         1000   \n",
            "3   Aditya Birla SL Bal Bhavishya Yojna – Dir Growth      500         1000   \n",
            "4            Aditya Birla SL Balanced Advantage Fund      100          100   \n",
            "\n",
            "   expense_ratio  fund_size_cr  fund_age_yr        fund_manager sortino  \\\n",
            "0           0.27          10.0           10      Kaustubh Gupta    0.32   \n",
            "1           0.36        4288.0           10    Lovelish Solanki    1.33   \n",
            "2           0.53         157.0           10  Vinod Narayan Bhat    3.44   \n",
            "3           0.76         637.0            4         Atul Penkar    2.18   \n",
            "4           0.61        6386.0           10        Mohit Sharma    3.69   \n",
            "\n",
            "   alpha     sd  beta sharpe  risk_level                           amc_name  \\\n",
            "0   2.24   9.39  0.01   0.24           3  Aditya Birla Sun Life Mutual Fund   \n",
            "1   1.53   0.72  0.56    1.1           1  Aditya Birla Sun Life Mutual Fund   \n",
            "2   2.67  10.58  0.67   1.42           5  Aditya Birla Sun Life Mutual Fund   \n",
            "3  -6.37  14.99  0.85    0.9           6  Aditya Birla Sun Life Mutual Fund   \n",
            "4   1.99  10.38  0.68   1.39           6  Aditya Birla Sun Life Mutual Fund   \n",
            "\n",
            "   rating           category                                    sub_category  \\\n",
            "0       3              Other                                   FoFs Domestic   \n",
            "1       3             Hybrid                          Arbitrage Mutual Funds   \n",
            "2       3              Other                                   FoFs Domestic   \n",
            "3       2  Solution Oriented                                 Childrens Funds   \n",
            "4       4             Hybrid  Dynamic Asset Allocation or Balanced Advantage   \n",
            "\n",
            "   returns_1yr  returns_3yr  returns_5yr  \n",
            "0          4.0          6.5          6.9  \n",
            "1          5.6          4.8          5.5  \n",
            "2          2.0         18.9          9.7  \n",
            "3         -0.7         17.1          NaN  \n",
            "4          4.5         18.6          9.7  \n",
            "scheme_name        0\n",
            "min_sip            0\n",
            "min_lumpsum        0\n",
            "expense_ratio      0\n",
            "fund_size_cr       0\n",
            "fund_age_yr        0\n",
            "fund_manager       0\n",
            "sortino            0\n",
            "alpha              0\n",
            "sd                 0\n",
            "beta               0\n",
            "sharpe             0\n",
            "risk_level         0\n",
            "amc_name           0\n",
            "rating             0\n",
            "category           0\n",
            "sub_category       0\n",
            "returns_1yr        0\n",
            "returns_3yr       21\n",
            "returns_5yr      167\n",
            "dtype: int64\n",
            "           min_sip   min_lumpsum  expense_ratio  fund_size_cr  fund_age_yr  \\\n",
            "count   814.000000    814.000000     814.000000    814.000000   814.000000   \n",
            "mean    528.500000   3047.468059       0.713231   3812.854214     8.319410   \n",
            "std     369.184517   2514.619513       0.482161   7181.479475     2.640622   \n",
            "min       0.000000      0.000000       0.000000      2.380000     1.000000   \n",
            "25%     150.000000    500.000000       0.310000    175.250000     6.000000   \n",
            "50%     500.000000   5000.000000       0.615000    940.500000    10.000000   \n",
            "75%    1000.000000   5000.000000       1.030000   3819.000000    10.000000   \n",
            "max    2000.000000  25000.000000       2.590000  57052.000000    17.000000   \n",
            "\n",
            "       risk_level      rating  returns_1yr  returns_3yr  returns_5yr  \n",
            "count  814.000000  814.000000   814.000000   793.000000   647.000000  \n",
            "mean     4.400491    2.641278     3.921376    18.525347     9.490726  \n",
            "std      1.814741    1.463476     6.675502    12.108476     3.714015  \n",
            "min      1.000000    0.000000   -19.700000     3.300000    -4.100000  \n",
            "25%      3.000000    2.000000     1.500000     6.200000     6.700000  \n",
            "50%      6.000000    3.000000     4.400000    18.500000     8.900000  \n",
            "75%      6.000000    4.000000     5.600000    27.100000    12.200000  \n",
            "max      6.000000    5.000000   130.800000    71.400000    23.200000  \n"
          ]
        }
      ],
      "source": [
        "import pandas as pd\n",
        "\n",
        "# Load dataset\n",
        "data = pd.read_csv('mutual_funds_DS.csv')\n",
        "\n",
        "# Inspect the first few rows\n",
        "print(data.head())\n",
        "\n",
        "# Check for missing values\n",
        "print(data.isnull().sum())\n",
        "\n",
        "# Describe dataset to get an overview of numerical features\n",
        "print(data.describe())\n"
      ]
    },
    {
      "cell_type": "code",
      "execution_count": null,
      "id": "c0a4613b-0009-452b-88d4-7a755a74bc12",
      "metadata": {
        "id": "c0a4613b-0009-452b-88d4-7a755a74bc12"
      },
      "outputs": [],
      "source": []
    },
    {
      "cell_type": "code",
      "execution_count": null,
      "id": "5be54367-89e0-457f-84f0-a8dad263f375",
      "metadata": {
        "id": "5be54367-89e0-457f-84f0-a8dad263f375"
      },
      "outputs": [],
      "source": []
    }
  ],
  "metadata": {
    "kernelspec": {
      "display_name": "Python 3 (ipykernel)",
      "language": "python",
      "name": "python3"
    },
    "language_info": {
      "codemirror_mode": {
        "name": "ipython",
        "version": 3
      },
      "file_extension": ".py",
      "mimetype": "text/x-python",
      "name": "python",
      "nbconvert_exporter": "python",
      "pygments_lexer": "ipython3",
      "version": "3.12.4"
    },
    "colab": {
      "provenance": [],
      "include_colab_link": true
    }
  },
  "nbformat": 4,
  "nbformat_minor": 5
}